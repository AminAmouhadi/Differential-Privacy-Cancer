{
 "cells": [
  {
   "cell_type": "markdown",
   "metadata": {
    "colab_type": "text",
    "id": "1eiwVljWpzM7"
   },
   "source": [
    "Copyright 2020 The TensorFlow Authors.\n"
   ]
  },
  {
   "cell_type": "code",
   "execution_count": 1,
   "metadata": {
    "cellView": "both",
    "colab": {},
    "colab_type": "code",
    "id": "4rmwPgXeptiS"
   },
   "outputs": [],
   "source": [
    "#@title Licensed under the Apache License, Version 2.0 (the \"License\");\n",
    "# you may not use this file except in compliance with the License.\n",
    "# You may obtain a copy of the License at\n",
    "#\n",
    "# https://www.apache.org/licenses/LICENSE-2.0\n",
    "#\n",
    "# Unless required by applicable law or agreed to in writing, software\n",
    "# distributed under the License is distributed on an \"AS IS\" BASIS,\n",
    "# WITHOUT WARRANTIES OR CONDITIONS OF ANY KIND, either express or implied.\n",
    "# See the License for the specific language governing permissions and\n",
    "# limitations under the License."
   ]
  },
  {
   "cell_type": "markdown",
   "metadata": {
    "colab_type": "text",
    "id": "YM2gRaJMqvMi"
   },
   "source": [
    "# Assess privacy risks with TensorFlow Privacy Membership Inference Attacks"
   ]
  },
  {
   "cell_type": "markdown",
   "metadata": {
    "colab_type": "text",
    "id": "-B5ZvlSqqLaR"
   },
   "source": [
    "<table class=\"tfo-notebook-buttons\" align=\"left\">\n",
    "  <td>\n",
    "    <a target=\"_blank\" href=\"https://colab.research.google.com/github/tensorflow/privacy/blob/master/tensorflow_privacy/privacy/membership_inference_attack/codelabs/codelab.ipynb\"><img src=\"https://www.tensorflow.org/images/colab_logo_32px.png\" />Run in Google Colab</a>\n",
    "  </td>\n",
    "  <td>\n",
    "    <a target=\"_blank\" href=\"https://github.com/tensorflow/privacy/blob/master/tensorflow_privacy/privacy/membership_inference_attack/codelabs/codelab.ipynb\"><img src=\"https://www.tensorflow.org/images/GitHub-Mark-32px.png\" />View source on GitHub</a>\n",
    "  </td>\n",
    "</table>"
   ]
  },
  {
   "cell_type": "markdown",
   "metadata": {
    "colab_type": "text",
    "id": "9rMuytY7Nn8P"
   },
   "source": [
    "##Overview\n",
    "In this codelab we'll train a simple image classification model on the CIFAR10 dataset, and then use the \"membership inference attack\" against this model to assess if the attacker is able to \"guess\" whether a particular sample was present in the training set. We further compute each sample's probability of being in the training set, denoted as the privacy risk score (https://arxiv.org/abs/2003.10595)"
   ]
  },
  {
   "cell_type": "markdown",
   "metadata": {
    "colab_type": "text",
    "id": "FUWqArj_q8vs"
   },
   "source": [
    "## Setup\n",
    "First, set this notebook's runtime to use a GPU, under Runtime > Change runtime type > Hardware accelerator. Then, begin importing the necessary libraries."
   ]
  },
  {
   "cell_type": "code",
   "execution_count": 2,
   "metadata": {
    "cellView": "form",
    "colab": {},
    "colab_type": "code",
    "id": "Lr1pwHcbralz"
   },
   "outputs": [],
   "source": [
    "#@title Import statements.\n",
    "import numpy as np\n",
    "from typing import Tuple, Text\n",
    "from scipy import special\n",
    "\n",
    "import tensorflow as tf\n",
    "import tensorflow_datasets as tfds\n",
    "\n",
    "# Set verbosity.\n",
    "tf.compat.v1.logging.set_verbosity(tf.compat.v1.logging.ERROR)\n",
    "from warnings import simplefilter\n",
    "from sklearn.exceptions import ConvergenceWarning\n",
    "simplefilter(action=\"ignore\", category=ConvergenceWarning)\n",
    "simplefilter(action=\"ignore\", category=FutureWarning)"
   ]
  },
  {
   "cell_type": "markdown",
   "metadata": {
    "colab_type": "text",
    "id": "ucw81ar6ru-6"
   },
   "source": [
    "### Install TensorFlow Privacy."
   ]
  },
  {
   "cell_type": "code",
   "execution_count": 3,
   "metadata": {
    "cellView": "both",
    "colab": {},
    "colab_type": "code",
    "id": "zcqAmiGH90kl"
   },
   "outputs": [],
   "source": [
    "!pip3 install git+https://github.com/tensorflow/privacy\n",
    "\n",
    "from tensorflow_privacy.privacy.membership_inference_attack import membership_inference_attack as mia"
   ]
  },
  {
   "cell_type": "markdown",
   "metadata": {
    "colab_type": "text",
    "id": "pBbcG86th_sW"
   },
   "source": [
    "## Train a model"
   ]
  },
  {
   "cell_type": "code",
   "execution_count": 4,
   "metadata": {
    "cellView": "form",
    "colab": {},
    "colab_type": "code",
    "id": "vCyOWyyhXLib"
   },
   "outputs": [
    {
     "name": "stdout",
     "output_type": "stream",
     "text": [
      "Loading the dataset.\n",
      "learning rate %f 0.02\n",
      "Model: \"sequential\"\n",
      "_________________________________________________________________\n",
      "Layer (type)                 Output Shape              Param #   \n",
      "=================================================================\n",
      "conv2d (Conv2D)              (None, 30, 30, 32)        896       \n",
      "_________________________________________________________________\n",
      "max_pooling2d (MaxPooling2D) (None, 15, 15, 32)        0         \n",
      "_________________________________________________________________\n",
      "conv2d_1 (Conv2D)            (None, 13, 13, 32)        9248      \n",
      "_________________________________________________________________\n",
      "max_pooling2d_1 (MaxPooling2 (None, 6, 6, 32)          0         \n",
      "_________________________________________________________________\n",
      "conv2d_2 (Conv2D)            (None, 4, 4, 32)          9248      \n",
      "_________________________________________________________________\n",
      "max_pooling2d_2 (MaxPooling2 (None, 2, 2, 32)          0         \n",
      "_________________________________________________________________\n",
      "flatten (Flatten)            (None, 128)               0         \n",
      "_________________________________________________________________\n",
      "dense (Dense)                (None, 64)                8256      \n",
      "_________________________________________________________________\n",
      "dense_1 (Dense)              (None, 10)                650       \n",
      "=================================================================\n",
      "Total params: 28,298\n",
      "Trainable params: 28,298\n",
      "Non-trainable params: 0\n",
      "_________________________________________________________________\n",
      "Epoch 1/100\n",
      "200/200 [==============================] - 2s 11ms/step - loss: 2.0612 - accuracy: 0.2296 - val_loss: 1.7651 - val_accuracy: 0.3543\n",
      "Epoch 2/100\n",
      "200/200 [==============================] - 2s 10ms/step - loss: 1.6134 - accuracy: 0.4093 - val_loss: 1.4970 - val_accuracy: 0.4533\n",
      "Epoch 3/100\n",
      "200/200 [==============================] - 2s 10ms/step - loss: 1.4312 - accuracy: 0.4798 - val_loss: 1.3316 - val_accuracy: 0.5254\n",
      "Epoch 4/100\n",
      "200/200 [==============================] - 2s 9ms/step - loss: 1.3117 - accuracy: 0.5308 - val_loss: 1.2511 - val_accuracy: 0.5495\n",
      "Epoch 5/100\n",
      "200/200 [==============================] - 2s 10ms/step - loss: 1.2103 - accuracy: 0.5715 - val_loss: 1.1634 - val_accuracy: 0.5906\n",
      "Epoch 6/100\n",
      "200/200 [==============================] - 2s 10ms/step - loss: 1.1535 - accuracy: 0.5943 - val_loss: 1.1286 - val_accuracy: 0.6007\n",
      "Epoch 7/100\n",
      "200/200 [==============================] - 2s 10ms/step - loss: 1.0921 - accuracy: 0.6147 - val_loss: 1.1256 - val_accuracy: 0.6005\n",
      "Epoch 8/100\n",
      "200/200 [==============================] - 2s 10ms/step - loss: 1.0472 - accuracy: 0.6319 - val_loss: 1.0726 - val_accuracy: 0.6266\n",
      "Epoch 9/100\n",
      "200/200 [==============================] - 2s 10ms/step - loss: 1.0173 - accuracy: 0.6434 - val_loss: 1.0692 - val_accuracy: 0.6228\n",
      "Epoch 10/100\n",
      "200/200 [==============================] - 2s 10ms/step - loss: 0.9775 - accuracy: 0.6543 - val_loss: 0.9961 - val_accuracy: 0.6544\n",
      "Epoch 11/100\n",
      "200/200 [==============================] - 2s 10ms/step - loss: 0.9361 - accuracy: 0.6747 - val_loss: 0.9996 - val_accuracy: 0.6519\n",
      "Epoch 12/100\n",
      "200/200 [==============================] - 2s 10ms/step - loss: 0.9077 - accuracy: 0.6815 - val_loss: 1.0096 - val_accuracy: 0.6526\n",
      "Epoch 13/100\n",
      "200/200 [==============================] - 2s 10ms/step - loss: 0.8918 - accuracy: 0.6865 - val_loss: 0.9685 - val_accuracy: 0.6624\n",
      "Epoch 14/100\n",
      "200/200 [==============================] - 2s 10ms/step - loss: 0.8501 - accuracy: 0.7016 - val_loss: 0.9513 - val_accuracy: 0.6737\n",
      "Epoch 15/100\n",
      "200/200 [==============================] - 2s 10ms/step - loss: 0.8402 - accuracy: 0.7041 - val_loss: 1.0338 - val_accuracy: 0.6449\n",
      "Epoch 16/100\n",
      "200/200 [==============================] - 2s 10ms/step - loss: 0.8218 - accuracy: 0.7099 - val_loss: 0.9843 - val_accuracy: 0.6588\n",
      "Epoch 17/100\n",
      "200/200 [==============================] - 2s 10ms/step - loss: 0.8029 - accuracy: 0.7167 - val_loss: 0.9515 - val_accuracy: 0.6724\n",
      "Epoch 18/100\n",
      "200/200 [==============================] - 2s 10ms/step - loss: 0.7858 - accuracy: 0.7230 - val_loss: 0.9279 - val_accuracy: 0.6790\n",
      "Epoch 19/100\n",
      "200/200 [==============================] - 2s 10ms/step - loss: 0.7609 - accuracy: 0.7316 - val_loss: 0.9664 - val_accuracy: 0.6705\n",
      "Epoch 20/100\n",
      "200/200 [==============================] - 2s 10ms/step - loss: 0.7452 - accuracy: 0.7352 - val_loss: 0.9328 - val_accuracy: 0.6880\n",
      "Epoch 21/100\n",
      "200/200 [==============================] - 2s 10ms/step - loss: 0.7412 - accuracy: 0.7378 - val_loss: 0.9045 - val_accuracy: 0.6869\n",
      "Epoch 22/100\n",
      "200/200 [==============================] - 2s 10ms/step - loss: 0.7174 - accuracy: 0.7468 - val_loss: 0.9313 - val_accuracy: 0.6844\n",
      "Epoch 23/100\n",
      "200/200 [==============================] - 2s 10ms/step - loss: 0.7113 - accuracy: 0.7481 - val_loss: 0.9915 - val_accuracy: 0.6594\n",
      "Epoch 24/100\n",
      "200/200 [==============================] - 2s 10ms/step - loss: 0.6890 - accuracy: 0.7575 - val_loss: 0.9174 - val_accuracy: 0.6922\n",
      "Epoch 25/100\n",
      "200/200 [==============================] - 2s 10ms/step - loss: 0.6839 - accuracy: 0.7578 - val_loss: 0.9313 - val_accuracy: 0.6891\n",
      "Epoch 26/100\n",
      "200/200 [==============================] - 2s 10ms/step - loss: 0.6696 - accuracy: 0.7627 - val_loss: 0.9411 - val_accuracy: 0.6838\n",
      "Epoch 27/100\n",
      "200/200 [==============================] - 2s 10ms/step - loss: 0.6581 - accuracy: 0.7673 - val_loss: 0.9240 - val_accuracy: 0.6900\n",
      "Epoch 28/100\n",
      "200/200 [==============================] - 2s 10ms/step - loss: 0.6504 - accuracy: 0.7717 - val_loss: 0.9469 - val_accuracy: 0.6872\n",
      "Epoch 29/100\n",
      "200/200 [==============================] - 2s 10ms/step - loss: 0.6486 - accuracy: 0.7700 - val_loss: 0.9310 - val_accuracy: 0.6924\n",
      "Epoch 30/100\n",
      "200/200 [==============================] - 2s 10ms/step - loss: 0.6389 - accuracy: 0.7761 - val_loss: 0.9203 - val_accuracy: 0.6977\n",
      "Epoch 31/100\n",
      "200/200 [==============================] - 2s 10ms/step - loss: 0.6198 - accuracy: 0.7808 - val_loss: 0.9639 - val_accuracy: 0.6865\n",
      "Epoch 32/100\n",
      "200/200 [==============================] - 2s 10ms/step - loss: 0.6234 - accuracy: 0.7810 - val_loss: 0.9300 - val_accuracy: 0.6978\n",
      "Epoch 33/100\n",
      "200/200 [==============================] - 2s 10ms/step - loss: 0.6213 - accuracy: 0.7801 - val_loss: 0.9401 - val_accuracy: 0.6939\n",
      "Epoch 34/100\n",
      "200/200 [==============================] - 2s 10ms/step - loss: 0.5966 - accuracy: 0.7881 - val_loss: 0.9759 - val_accuracy: 0.6893\n",
      "Epoch 35/100\n",
      "200/200 [==============================] - 2s 10ms/step - loss: 0.5935 - accuracy: 0.7905 - val_loss: 0.9545 - val_accuracy: 0.6918\n",
      "Epoch 36/100\n",
      "200/200 [==============================] - 2s 10ms/step - loss: 0.5843 - accuracy: 0.7943 - val_loss: 0.9762 - val_accuracy: 0.6881\n",
      "Epoch 37/100\n",
      "200/200 [==============================] - 2s 10ms/step - loss: 0.5841 - accuracy: 0.7923 - val_loss: 0.9974 - val_accuracy: 0.6932\n",
      "Epoch 38/100\n",
      "200/200 [==============================] - 2s 10ms/step - loss: 0.5705 - accuracy: 0.8001 - val_loss: 0.9882 - val_accuracy: 0.6956\n",
      "Epoch 39/100\n",
      "200/200 [==============================] - 2s 10ms/step - loss: 0.5755 - accuracy: 0.7966 - val_loss: 1.0226 - val_accuracy: 0.6828\n",
      "Epoch 40/100\n",
      "200/200 [==============================] - 2s 10ms/step - loss: 0.5720 - accuracy: 0.7977 - val_loss: 1.0234 - val_accuracy: 0.6865\n",
      "Epoch 41/100\n",
      "200/200 [==============================] - 2s 10ms/step - loss: 0.5625 - accuracy: 0.7990 - val_loss: 1.0069 - val_accuracy: 0.6901\n",
      "Epoch 42/100\n",
      "200/200 [==============================] - 2s 10ms/step - loss: 0.5516 - accuracy: 0.8031 - val_loss: 1.0525 - val_accuracy: 0.6834\n",
      "Epoch 43/100\n",
      "200/200 [==============================] - 2s 10ms/step - loss: 0.5506 - accuracy: 0.8029 - val_loss: 0.9840 - val_accuracy: 0.6958\n",
      "Epoch 44/100\n",
      "200/200 [==============================] - 2s 10ms/step - loss: 0.5461 - accuracy: 0.8055 - val_loss: 1.0448 - val_accuracy: 0.6848\n",
      "Epoch 45/100\n",
      "200/200 [==============================] - 2s 10ms/step - loss: 0.5351 - accuracy: 0.8098 - val_loss: 1.0133 - val_accuracy: 0.6991\n",
      "Epoch 46/100\n"
     ]
    },
    {
     "name": "stdout",
     "output_type": "stream",
     "text": [
      "200/200 [==============================] - 2s 9ms/step - loss: 0.5219 - accuracy: 0.8157 - val_loss: 1.0694 - val_accuracy: 0.6729\n",
      "Epoch 47/100\n",
      "200/200 [==============================] - 2s 10ms/step - loss: 0.5232 - accuracy: 0.8121 - val_loss: 1.0447 - val_accuracy: 0.6902\n",
      "Epoch 48/100\n",
      "200/200 [==============================] - 2s 10ms/step - loss: 0.5180 - accuracy: 0.8149 - val_loss: 1.0495 - val_accuracy: 0.6907\n",
      "Epoch 49/100\n",
      "200/200 [==============================] - 2s 10ms/step - loss: 0.5022 - accuracy: 0.8217 - val_loss: 1.0147 - val_accuracy: 0.6941\n",
      "Epoch 50/100\n",
      "200/200 [==============================] - 2s 10ms/step - loss: 0.5017 - accuracy: 0.8210 - val_loss: 1.0510 - val_accuracy: 0.6925\n",
      "Epoch 51/100\n",
      "200/200 [==============================] - 2s 9ms/step - loss: 0.4997 - accuracy: 0.8230 - val_loss: 1.0620 - val_accuracy: 0.6935\n",
      "Epoch 52/100\n",
      "200/200 [==============================] - 2s 10ms/step - loss: 0.5001 - accuracy: 0.8214 - val_loss: 1.1083 - val_accuracy: 0.6832\n",
      "Epoch 53/100\n",
      "200/200 [==============================] - 2s 10ms/step - loss: 0.4976 - accuracy: 0.8213 - val_loss: 1.0512 - val_accuracy: 0.6924\n",
      "Epoch 54/100\n",
      "200/200 [==============================] - 2s 10ms/step - loss: 0.4858 - accuracy: 0.8250 - val_loss: 1.0825 - val_accuracy: 0.6936\n",
      "Epoch 55/100\n",
      "200/200 [==============================] - 2s 10ms/step - loss: 0.4859 - accuracy: 0.8241 - val_loss: 1.1278 - val_accuracy: 0.6763\n",
      "Epoch 56/100\n",
      "200/200 [==============================] - 2s 10ms/step - loss: 0.4839 - accuracy: 0.8275 - val_loss: 1.1310 - val_accuracy: 0.6900\n",
      "Epoch 57/100\n",
      "200/200 [==============================] - 2s 10ms/step - loss: 0.4805 - accuracy: 0.8295 - val_loss: 1.1174 - val_accuracy: 0.6838\n",
      "Epoch 58/100\n",
      "200/200 [==============================] - 2s 10ms/step - loss: 0.4836 - accuracy: 0.8278 - val_loss: 1.1538 - val_accuracy: 0.6884\n",
      "Epoch 59/100\n",
      "200/200 [==============================] - 2s 10ms/step - loss: 0.4816 - accuracy: 0.8278 - val_loss: 1.1088 - val_accuracy: 0.6831\n",
      "Epoch 60/100\n",
      "200/200 [==============================] - 2s 10ms/step - loss: 0.4589 - accuracy: 0.8351 - val_loss: 1.1430 - val_accuracy: 0.6827\n",
      "Epoch 61/100\n",
      "200/200 [==============================] - 2s 10ms/step - loss: 0.4633 - accuracy: 0.8337 - val_loss: 1.0974 - val_accuracy: 0.6935\n",
      "Epoch 62/100\n",
      "200/200 [==============================] - 2s 10ms/step - loss: 0.4562 - accuracy: 0.8362 - val_loss: 1.1591 - val_accuracy: 0.6809\n",
      "Epoch 63/100\n",
      "200/200 [==============================] - 2s 10ms/step - loss: 0.4604 - accuracy: 0.8340 - val_loss: 1.1722 - val_accuracy: 0.6778\n",
      "Epoch 64/100\n",
      "200/200 [==============================] - 2s 10ms/step - loss: 0.4536 - accuracy: 0.8378 - val_loss: 1.1837 - val_accuracy: 0.6740\n",
      "Epoch 65/100\n",
      "200/200 [==============================] - 2s 10ms/step - loss: 0.4773 - accuracy: 0.8281 - val_loss: 1.2039 - val_accuracy: 0.6746\n",
      "Epoch 66/100\n",
      "200/200 [==============================] - 2s 10ms/step - loss: 0.4444 - accuracy: 0.8400 - val_loss: 1.1762 - val_accuracy: 0.6784\n",
      "Epoch 67/100\n",
      "200/200 [==============================] - 2s 10ms/step - loss: 0.4452 - accuracy: 0.8404 - val_loss: 1.2105 - val_accuracy: 0.6767\n",
      "Epoch 68/100\n",
      "200/200 [==============================] - 2s 10ms/step - loss: 0.4444 - accuracy: 0.8387 - val_loss: 1.2040 - val_accuracy: 0.6763\n",
      "Epoch 69/100\n",
      "200/200 [==============================] - 2s 10ms/step - loss: 0.4482 - accuracy: 0.8383 - val_loss: 1.2023 - val_accuracy: 0.6807\n",
      "Epoch 70/100\n",
      "200/200 [==============================] - 2s 9ms/step - loss: 0.4482 - accuracy: 0.8388 - val_loss: 1.1758 - val_accuracy: 0.6891\n",
      "Epoch 71/100\n",
      "200/200 [==============================] - 2s 10ms/step - loss: 0.4323 - accuracy: 0.8447 - val_loss: 1.1958 - val_accuracy: 0.6883\n",
      "Epoch 72/100\n",
      "200/200 [==============================] - 2s 10ms/step - loss: 0.4402 - accuracy: 0.8399 - val_loss: 1.2304 - val_accuracy: 0.6834\n",
      "Epoch 73/100\n",
      "200/200 [==============================] - 2s 10ms/step - loss: 0.4259 - accuracy: 0.8479 - val_loss: 1.2637 - val_accuracy: 0.6711\n",
      "Epoch 74/100\n",
      "200/200 [==============================] - 2s 10ms/step - loss: 0.4319 - accuracy: 0.8444 - val_loss: 1.1960 - val_accuracy: 0.6826\n",
      "Epoch 75/100\n",
      "200/200 [==============================] - 2s 9ms/step - loss: 0.4332 - accuracy: 0.8420 - val_loss: 1.2422 - val_accuracy: 0.6868\n",
      "Epoch 76/100\n",
      "200/200 [==============================] - 2s 10ms/step - loss: 0.4207 - accuracy: 0.8477 - val_loss: 1.2335 - val_accuracy: 0.6802\n",
      "Epoch 77/100\n",
      "200/200 [==============================] - 2s 10ms/step - loss: 0.4284 - accuracy: 0.8452 - val_loss: 1.2575 - val_accuracy: 0.6802\n",
      "Epoch 78/100\n",
      "200/200 [==============================] - 2s 10ms/step - loss: 0.4129 - accuracy: 0.8502 - val_loss: 1.3147 - val_accuracy: 0.6734\n",
      "Epoch 79/100\n",
      "200/200 [==============================] - 2s 10ms/step - loss: 0.4300 - accuracy: 0.8448 - val_loss: 1.2489 - val_accuracy: 0.6795\n",
      "Epoch 80/100\n",
      "200/200 [==============================] - 2s 10ms/step - loss: 0.4190 - accuracy: 0.8490 - val_loss: 1.3098 - val_accuracy: 0.6658\n",
      "Epoch 81/100\n",
      "200/200 [==============================] - 2s 10ms/step - loss: 0.4192 - accuracy: 0.8475 - val_loss: 1.3094 - val_accuracy: 0.6794\n",
      "Epoch 82/100\n",
      "200/200 [==============================] - 2s 10ms/step - loss: 0.4179 - accuracy: 0.8474 - val_loss: 1.2586 - val_accuracy: 0.6812\n",
      "Epoch 83/100\n",
      "200/200 [==============================] - 2s 10ms/step - loss: 0.4101 - accuracy: 0.8509 - val_loss: 1.2885 - val_accuracy: 0.6766\n",
      "Epoch 84/100\n",
      "200/200 [==============================] - 2s 10ms/step - loss: 0.4076 - accuracy: 0.8521 - val_loss: 1.3107 - val_accuracy: 0.6728\n",
      "Epoch 85/100\n",
      "200/200 [==============================] - 2s 10ms/step - loss: 0.4095 - accuracy: 0.8510 - val_loss: 1.3321 - val_accuracy: 0.6797\n",
      "Epoch 86/100\n",
      "200/200 [==============================] - 2s 10ms/step - loss: 0.4051 - accuracy: 0.8535 - val_loss: 1.3349 - val_accuracy: 0.6755\n",
      "Epoch 87/100\n",
      "200/200 [==============================] - 2s 10ms/step - loss: 0.3985 - accuracy: 0.8536 - val_loss: 1.2849 - val_accuracy: 0.6760\n",
      "Epoch 88/100\n",
      "200/200 [==============================] - 2s 10ms/step - loss: 0.3933 - accuracy: 0.8576 - val_loss: 1.3214 - val_accuracy: 0.6799\n",
      "Epoch 89/100\n",
      "200/200 [==============================] - 2s 10ms/step - loss: 0.4005 - accuracy: 0.8537 - val_loss: 1.3200 - val_accuracy: 0.6793\n",
      "Epoch 90/100\n",
      "200/200 [==============================] - 2s 10ms/step - loss: 0.3939 - accuracy: 0.8561 - val_loss: 1.3327 - val_accuracy: 0.6755\n",
      "Epoch 91/100\n",
      "200/200 [==============================] - 2s 10ms/step - loss: 0.3904 - accuracy: 0.8565 - val_loss: 1.3969 - val_accuracy: 0.6770\n",
      "Epoch 92/100\n",
      "200/200 [==============================] - 2s 10ms/step - loss: 0.3989 - accuracy: 0.8554 - val_loss: 1.3437 - val_accuracy: 0.6761\n",
      "Epoch 93/100\n",
      "200/200 [==============================] - 2s 10ms/step - loss: 0.3921 - accuracy: 0.8578 - val_loss: 1.4248 - val_accuracy: 0.6763\n",
      "Epoch 94/100\n",
      "200/200 [==============================] - 2s 10ms/step - loss: 0.3781 - accuracy: 0.8609 - val_loss: 1.3771 - val_accuracy: 0.6728\n",
      "Epoch 95/100\n",
      "200/200 [==============================] - 2s 10ms/step - loss: 0.4045 - accuracy: 0.8528 - val_loss: 1.4156 - val_accuracy: 0.6735\n",
      "Epoch 96/100\n",
      "200/200 [==============================] - 2s 10ms/step - loss: 0.3998 - accuracy: 0.8536 - val_loss: 1.3608 - val_accuracy: 0.6770\n",
      "Epoch 97/100\n",
      "200/200 [==============================] - 2s 10ms/step - loss: 0.3875 - accuracy: 0.8587 - val_loss: 1.4172 - val_accuracy: 0.6642\n",
      "Epoch 98/100\n",
      "200/200 [==============================] - 2s 10ms/step - loss: 0.3975 - accuracy: 0.8537 - val_loss: 1.3898 - val_accuracy: 0.6758\n",
      "Epoch 99/100\n",
      "200/200 [==============================] - 2s 9ms/step - loss: 0.3779 - accuracy: 0.8610 - val_loss: 1.3825 - val_accuracy: 0.6743\n",
      "Epoch 100/100\n",
      "200/200 [==============================] - 2s 10ms/step - loss: 0.3836 - accuracy: 0.8613 - val_loss: 1.4445 - val_accuracy: 0.6738\n",
      "Finished training.\n"
     ]
    }
   ],
   "source": [
    "#@markdown Train a simple model on CIFAR10 with Keras.\n",
    "\n",
    "dataset = 'cifar10'\n",
    "num_classes = 10\n",
    "num_conv = 3\n",
    "activation = 'relu'\n",
    "lr = 0.02\n",
    "momentum = 0.9\n",
    "batch_size = 250\n",
    "epochs = 100  # Privacy risks are especially visible with lots of epochs.\n",
    "\n",
    "\n",
    "def small_cnn(input_shape: Tuple[int],\n",
    "              num_classes: int,\n",
    "              num_conv: int,\n",
    "              activation: Text = 'relu') -> tf.keras.models.Sequential:\n",
    "  \"\"\"Setup a small CNN for image classification.\n",
    "\n",
    "  Args:\n",
    "    input_shape: Integer tuple for the shape of the images.\n",
    "    num_classes: Number of prediction classes.\n",
    "    num_conv: Number of convolutional layers.\n",
    "    activation: The activation function to use for conv and dense layers.\n",
    "\n",
    "  Returns:\n",
    "    The Keras model.\n",
    "  \"\"\"\n",
    "  model = tf.keras.models.Sequential()\n",
    "  model.add(tf.keras.layers.Input(shape=input_shape))\n",
    "\n",
    "  # Conv layers\n",
    "  for _ in range(num_conv):\n",
    "    model.add(tf.keras.layers.Conv2D(32, (3, 3), activation=activation))\n",
    "    model.add(tf.keras.layers.MaxPooling2D())\n",
    "\n",
    "  model.add(tf.keras.layers.Flatten())\n",
    "  model.add(tf.keras.layers.Dense(64, activation=activation))\n",
    "  model.add(tf.keras.layers.Dense(num_classes))\n",
    "  return model\n",
    "\n",
    "\n",
    "print('Loading the dataset.')\n",
    "train_ds = tfds.as_numpy(\n",
    "    tfds.load(dataset, split=tfds.Split.TRAIN, batch_size=-1))\n",
    "test_ds = tfds.as_numpy(\n",
    "    tfds.load(dataset, split=tfds.Split.TEST, batch_size=-1))\n",
    "x_train = train_ds['image'].astype('float32') / 255.\n",
    "y_train_indices = train_ds['label'][:, np.newaxis]\n",
    "x_test = test_ds['image'].astype('float32') / 255.\n",
    "y_test_indices = test_ds['label'][:, np.newaxis]\n",
    "\n",
    "# Convert class vectors to binary class matrices.\n",
    "y_train = tf.keras.utils.to_categorical(y_train_indices, num_classes)\n",
    "y_test = tf.keras.utils.to_categorical(y_test_indices, num_classes)\n",
    "\n",
    "input_shape = x_train.shape[1:]\n",
    "\n",
    "model = small_cnn(\n",
    "    input_shape, num_classes, num_conv=num_conv, activation=activation)\n",
    "\n",
    "print('learning rate %f', lr)\n",
    "\n",
    "optimizer = tf.keras.optimizers.SGD(lr=lr, momentum=momentum)\n",
    "\n",
    "loss = tf.keras.losses.CategoricalCrossentropy(from_logits=True)\n",
    "model.compile(loss=loss, optimizer=optimizer, metrics=['accuracy'])\n",
    "model.summary()\n",
    "model.fit(\n",
    "    x_train,\n",
    "    y_train,\n",
    "    batch_size=batch_size,\n",
    "    epochs=epochs,\n",
    "    validation_data=(x_test, y_test),\n",
    "    shuffle=True)\n",
    "print('Finished training.')"
   ]
  },
  {
   "cell_type": "markdown",
   "metadata": {
    "colab_type": "text",
    "id": "ee-zjGGGV1DC"
   },
   "source": [
    "## Calculate logits, probabilities and loss values for training and test sets.\n",
    "\n",
    "We will use these values later in the membership inference attack and privacy risk score analysis to separate training and test samples."
   ]
  },
  {
   "cell_type": "code",
   "execution_count": 5,
   "metadata": {
    "cellView": "both",
    "colab": {},
    "colab_type": "code",
    "id": "um9r0tSiPx4u"
   },
   "outputs": [
    {
     "name": "stdout",
     "output_type": "stream",
     "text": [
      "Predict on train...\n",
      "Predict on test...\n",
      "Apply softmax to get probabilities from logits...\n",
      "Compute losses...\n"
     ]
    }
   ],
   "source": [
    "print('Predict on train...')\n",
    "logits_train = model.predict(x_train, batch_size=batch_size)\n",
    "print('Predict on test...')\n",
    "logits_test = model.predict(x_test, batch_size=batch_size)\n",
    "\n",
    "print('Apply softmax to get probabilities from logits...')\n",
    "prob_train = special.softmax(logits_train, axis=1)\n",
    "prob_test = special.softmax(logits_test, axis=1)\n",
    "\n",
    "print('Compute losses...')\n",
    "cce = tf.keras.backend.categorical_crossentropy\n",
    "constant = tf.keras.backend.constant\n",
    "\n",
    "loss_train = cce(constant(y_train), constant(prob_train), from_logits=False).numpy()\n",
    "loss_test = cce(constant(y_test), constant(prob_test), from_logits=False).numpy()"
   ]
  },
  {
   "cell_type": "markdown",
   "metadata": {
    "colab_type": "text",
    "id": "QETxVOHLiHP4"
   },
   "source": [
    "## Run membership inference attacks.\n",
    "\n",
    "We will now execute a membership inference attack against the previously trained CIFAR10 model. This will generate a number of scores, most notably, attacker advantage and AUC for the membership inference classifier.\n",
    "\n",
    "An AUC of close to 0.5 means that the attack wasn't able to identify training samples, which means that the model doesn't have privacy issues according to this test. Higher values, on the contrary, indicate potential privacy issues."
   ]
  },
  {
   "cell_type": "code",
   "execution_count": 6,
   "metadata": {
    "colab": {},
    "colab_type": "code",
    "id": "B8NIwhVwQT7I"
   },
   "outputs": [
    {
     "name": "stdout",
     "output_type": "stream",
     "text": [
      "Best-performing attacks over all slices\n",
      "  LOGISTIC_REGRESSION achieved an AUC of 0.75 on slice CORRECTLY_CLASSIFIED=False\n",
      "  LOGISTIC_REGRESSION achieved an advantage of 0.39 on slice CORRECTLY_CLASSIFIED=False\n",
      "\n",
      "Best-performing attacks over slice: \"Entire dataset\"\n",
      "  LOGISTIC_REGRESSION achieved an AUC of 0.62\n",
      "  LOGISTIC_REGRESSION achieved an advantage of 0.21\n",
      "\n",
      "Best-performing attacks over slice: \"CLASS=0\"\n",
      "  LOGISTIC_REGRESSION achieved an AUC of 0.65\n",
      "  LOGISTIC_REGRESSION achieved an advantage of 0.28\n",
      "\n",
      "Best-performing attacks over slice: \"CLASS=1\"\n",
      "  LOGISTIC_REGRESSION achieved an AUC of 0.59\n",
      "  THRESHOLD_ENTROPY_ATTACK achieved an advantage of 0.18\n",
      "\n",
      "Best-performing attacks over slice: \"CLASS=2\"\n",
      "  LOGISTIC_REGRESSION achieved an AUC of 0.72\n",
      "  LOGISTIC_REGRESSION achieved an advantage of 0.33\n",
      "\n",
      "Best-performing attacks over slice: \"CLASS=3\"\n",
      "  LOGISTIC_REGRESSION achieved an AUC of 0.68\n",
      "  LOGISTIC_REGRESSION achieved an advantage of 0.30\n",
      "\n",
      "Best-performing attacks over slice: \"CLASS=4\"\n",
      "  LOGISTIC_REGRESSION achieved an AUC of 0.68\n",
      "  LOGISTIC_REGRESSION achieved an advantage of 0.28\n",
      "\n",
      "Best-performing attacks over slice: \"CLASS=5\"\n",
      "  THRESHOLD_ENTROPY_ATTACK achieved an AUC of 0.63\n",
      "  THRESHOLD_ENTROPY_ATTACK achieved an advantage of 0.23\n",
      "\n",
      "Best-performing attacks over slice: \"CLASS=6\"\n",
      "  LOGISTIC_REGRESSION achieved an AUC of 0.59\n",
      "  LOGISTIC_REGRESSION achieved an advantage of 0.19\n",
      "\n",
      "Best-performing attacks over slice: \"CLASS=7\"\n",
      "  LOGISTIC_REGRESSION achieved an AUC of 0.62\n",
      "  THRESHOLD_ATTACK achieved an advantage of 0.21\n",
      "\n",
      "Best-performing attacks over slice: \"CLASS=8\"\n",
      "  LOGISTIC_REGRESSION achieved an AUC of 0.59\n",
      "  THRESHOLD_ENTROPY_ATTACK achieved an advantage of 0.17\n",
      "\n",
      "Best-performing attacks over slice: \"CLASS=9\"\n",
      "  LOGISTIC_REGRESSION achieved an AUC of 0.64\n",
      "  LOGISTIC_REGRESSION achieved an advantage of 0.22\n",
      "\n",
      "Best-performing attacks over slice: \"CORRECTLY_CLASSIFIED=True\"\n",
      "  LOGISTIC_REGRESSION achieved an AUC of 0.52\n",
      "  THRESHOLD_ATTACK achieved an advantage of 0.06\n",
      "\n",
      "Best-performing attacks over slice: \"CORRECTLY_CLASSIFIED=False\"\n",
      "  LOGISTIC_REGRESSION achieved an AUC of 0.75\n",
      "  LOGISTIC_REGRESSION achieved an advantage of 0.39\n"
     ]
    },
    {
     "data": {
      "image/png": "[encoded data removed]",
      "text/plain": [
       "<Figure size 432x288 with 1 Axes>"
      ]
     },
     "metadata": {
      "needs_background": "light"
     },
     "output_type": "display_data"
    }
   ],
   "source": [
    "from tensorflow_privacy.privacy.membership_inference_attack.data_structures import AttackInputData\n",
    "from tensorflow_privacy.privacy.membership_inference_attack.data_structures import SlicingSpec\n",
    "from tensorflow_privacy.privacy.membership_inference_attack.data_structures import AttackType\n",
    "\n",
    "import tensorflow_privacy.privacy.membership_inference_attack.plotting as plotting\n",
    "\n",
    "labels_train = np.argmax(y_train, axis=1)\n",
    "labels_test = np.argmax(y_test, axis=1)\n",
    "\n",
    "input = AttackInputData(\n",
    "  logits_train = logits_train,\n",
    "  logits_test = logits_test,\n",
    "  loss_train = loss_train,\n",
    "  loss_test = loss_test,\n",
    "  labels_train = labels_train,\n",
    "  labels_test = labels_test\n",
    ")\n",
    "\n",
    "# Run several attacks for different data slices\n",
    "attacks_result = mia.run_attacks(input,\n",
    "                                 SlicingSpec(\n",
    "                                     entire_dataset = True,\n",
    "                                     by_class = True,\n",
    "                                     by_classification_correctness = True\n",
    "                                 ),\n",
    "                                 attack_types = [\n",
    "                                     AttackType.THRESHOLD_ATTACK,\n",
    "                                     AttackType.THRESHOLD_ENTROPY_ATTACK,\n",
    "                                     AttackType.LOGISTIC_REGRESSION])\n",
    "\n",
    "# Plot the ROC curve of the best classifier\n",
    "fig = plotting.plot_roc_curve(\n",
    "    attacks_result.get_result_with_max_auc().roc_curve)\n",
    "\n",
    "# Print a user-friendly summary of the attacks\n",
    "print(attacks_result.summary(by_slices = True))"
   ]
  },
  {
   "cell_type": "markdown",
   "metadata": {
    "colab_type": "text",
    "id": "E9zwsPGFujVq"
   },
   "source": [
    "## Compute privacy risk score\n",
    "\n",
    "This part shows how to use the privacy risk score.\n",
    "\n",
    "For each data slice, we compute privacy risk scores for both training and test data. We then set a threshold on risk scores (an input is inferred as a member if and only if its risk score is higher than the threshold) and compute the attack precision and recall values"
   ]
  },
  {
   "cell_type": "code",
   "execution_count": 7,
   "metadata": {},
   "outputs": [
    {
     "name": "stdout",
     "output_type": "stream",
     "text": [
      "\n",
      "Privacy risk score analysis over slice: \"Entire dataset\"\n",
      "  with 0.60000 as the threshold on privacy risk score, the precision-recall pair is (0.60966, 0.10730)\n",
      "  with 0.50000 as the threshold on privacy risk score, the precision-recall pair is (0.56588, 0.87102)\n",
      "\n",
      "Privacy risk score analysis over slice: \"CLASS=0\"\n",
      "  with 0.60000 as the threshold on privacy risk score, the precision-recall pair is (0.62251, 0.26880)\n",
      "  with 0.50000 as the threshold on privacy risk score, the precision-recall pair is (0.57677, 0.74680)\n",
      "\n",
      "Privacy risk score analysis over slice: \"CLASS=1\"\n",
      "  with 0.60000 as the threshold on privacy risk score, the precision-recall pair is (0.61579, 0.23560)\n",
      "  with 0.50000 as the threshold on privacy risk score, the precision-recall pair is (0.58356, 0.64880)\n",
      "\n",
      "Privacy risk score analysis over slice: \"CLASS=2\"\n",
      "  with 0.60000 as the threshold on privacy risk score, the precision-recall pair is (0.64815, 0.58580)\n",
      "  with 0.50000 as the threshold on privacy risk score, the precision-recall pair is (0.62353, 0.80660)\n",
      "\n",
      "Privacy risk score analysis over slice: \"CLASS=3\"\n",
      "  with 1.00000 as the threshold on privacy risk score, the precision-recall pair is (1.00000, 0.00060)\n",
      "  with 0.90000 as the threshold on privacy risk score, the precision-recall pair is (1.00000, 0.00060)\n",
      "  with 0.80000 as the threshold on privacy risk score, the precision-recall pair is (1.00000, 0.00060)\n",
      "  with 0.70000 as the threshold on privacy risk score, the precision-recall pair is (1.00000, 0.00060)\n",
      "  with 0.60000 as the threshold on privacy risk score, the precision-recall pair is (0.62839, 0.60200)\n",
      "  with 0.50000 as the threshold on privacy risk score, the precision-recall pair is (0.59257, 0.90320)\n",
      "\n",
      "Privacy risk score analysis over slice: \"CLASS=4\"\n",
      "  with 1.00000 as the threshold on privacy risk score, the precision-recall pair is (1.00000, 0.00140)\n",
      "  with 0.90000 as the threshold on privacy risk score, the precision-recall pair is (1.00000, 0.00140)\n",
      "  with 0.80000 as the threshold on privacy risk score, the precision-recall pair is (1.00000, 0.00140)\n",
      "  with 0.70000 as the threshold on privacy risk score, the precision-recall pair is (1.00000, 0.00140)\n",
      "  with 0.60000 as the threshold on privacy risk score, the precision-recall pair is (0.63558, 0.16220)\n",
      "  with 0.50000 as the threshold on privacy risk score, the precision-recall pair is (0.57909, 0.87500)\n",
      "\n",
      "Privacy risk score analysis over slice: \"CLASS=5\"\n",
      "  with 0.60000 as the threshold on privacy risk score, the precision-recall pair is (0.62834, 0.10820)\n",
      "  with 0.50000 as the threshold on privacy risk score, the precision-recall pair is (0.57398, 0.87440)\n",
      "\n",
      "Privacy risk score analysis over slice: \"CLASS=6\"\n",
      "  with 0.60000 as the threshold on privacy risk score, the precision-recall pair is (0.61623, 0.11240)\n",
      "  with 0.50000 as the threshold on privacy risk score, the precision-recall pair is (0.57273, 0.70640)\n",
      "\n",
      "Privacy risk score analysis over slice: \"CLASS=7\"\n",
      "  with 0.60000 as the threshold on privacy risk score, the precision-recall pair is (0.62541, 0.15360)\n",
      "  with 0.50000 as the threshold on privacy risk score, the precision-recall pair is (0.57991, 0.77720)\n",
      "\n",
      "Privacy risk score analysis over slice: \"CLASS=8\"\n",
      "  with 0.60000 as the threshold on privacy risk score, the precision-recall pair is (0.62054, 0.11120)\n",
      "  with 0.50000 as the threshold on privacy risk score, the precision-recall pair is (0.55600, 0.81520)\n",
      "\n",
      "Privacy risk score analysis over slice: \"CLASS=9\"\n",
      "  with 0.50000 as the threshold on privacy risk score, the precision-recall pair is (0.56808, 0.68920)\n",
      "\n",
      "Privacy risk score analysis over slice: \"CORRECTLY_CLASSIFIED=True\"\n",
      "  with 0.50000 as the threshold on privacy risk score, the precision-recall pair is (0.53422, 0.43662)\n",
      "\n",
      "Privacy risk score analysis over slice: \"CORRECTLY_CLASSIFIED=False\"\n",
      "  with 0.70000 as the threshold on privacy risk score, the precision-recall pair is (0.71764, 0.35140)\n",
      "  with 0.60000 as the threshold on privacy risk score, the precision-recall pair is (0.68704, 0.64067)\n",
      "  with 0.50000 as the threshold on privacy risk score, the precision-recall pair is (0.64406, 0.84983)\n"
     ]
    }
   ],
   "source": [
    "# compute privacy risk scores on all given data slices\n",
    "risk_score_results = mia.run_privacy_risk_score_analysis(input,\n",
    "                                                         SlicingSpec(\n",
    "                                                             entire_dataset = True,\n",
    "                                                             by_class = True,\n",
    "                                                             by_classification_correctness = True))\n",
    "# print the summary of privacy risk score analysis\n",
    "print(risk_score_results.summary(threshold_list=[1, 0.9, 0.8, 0.7, 0.6, 0.5]))"
   ]
  },
  {
   "cell_type": "code",
   "execution_count": null,
   "metadata": {},
   "outputs": [],
   "source": []
  }
 ],
 "metadata": {
  "colab": {
   "collapsed_sections": [],
   "last_runtime": {
    "build_target": "//learning/deepmind/public/tools/ml_python:ml_notebook",
    "kind": "private"
   },
   "name": "Membership inference privacy risk score codelab",
   "provenance": []
  },
  "kernelspec": {
   "display_name": "Python 3",
   "language": "python",
   "name": "python3"
  },
  "language_info": {
   "codemirror_mode": {
    "name": "ipython",
    "version": 3
   },
   "file_extension": ".py",
   "mimetype": "text/x-python",
   "name": "python",
   "nbconvert_exporter": "python",
   "pygments_lexer": "ipython3",
   "version": "3.6.10"
  },
  "pycharm": {
   "stem_cell": {
    "cell_type": "raw",
    "metadata": {
     "collapsed": false
    },
    "source": []
   }
  }
 },
 "nbformat": 4,
 "nbformat_minor": 1
}

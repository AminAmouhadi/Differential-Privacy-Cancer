{
 "cells": [
  {
   "cell_type": "markdown",
   "metadata": {
    "colab_type": "text",
    "id": "1eiwVljWpzM7"
   },
   "source": [
    "Copyright 2020 The TensorFlow Authors.\n"
   ]
  },
  {
   "cell_type": "code",
   "execution_count": 1,
   "metadata": {
    "cellView": "both",
    "colab": {},
    "colab_type": "code",
    "id": "4rmwPgXeptiS"
   },
   "outputs": [],
   "source": [
    "#@title Licensed under the Apache License, Version 2.0 (the \"License\");\n",
    "# you may not use this file except in compliance with the License.\n",
    "# You may obtain a copy of the License at\n",
    "#\n",
    "# https://www.apache.org/licenses/LICENSE-2.0\n",
    "#\n",
    "# Unless required by applicable law or agreed to in writing, software\n",
    "# distributed under the License is distributed on an \"AS IS\" BASIS,\n",
    "# WITHOUT WARRANTIES OR CONDITIONS OF ANY KIND, either express or implied.\n",
    "# See the License for the specific language governing permissions and\n",
    "# limitations under the License."
   ]
  },
  {
   "cell_type": "markdown",
   "metadata": {
    "colab_type": "text",
    "id": "YM2gRaJMqvMi"
   },
   "source": [
    "# Assess privacy risks with TensorFlow Privacy Membership Inference Attacks"
   ]
  },
  {
   "cell_type": "markdown",
   "metadata": {
    "colab_type": "text",
    "id": "-B5ZvlSqqLaR"
   },
   "source": [
    "<table class=\"tfo-notebook-buttons\" align=\"left\">\n",
    "  <td>\n",
    "    <a target=\"_blank\" href=\"https://colab.research.google.com/github/tensorflow/privacy/blob/master/tensorflow_privacy/privacy/membership_inference_attack/codelabs/codelab.ipynb\"><img src=\"https://www.tensorflow.org/images/colab_logo_32px.png\" />Run in Google Colab</a>\n",
    "  </td>\n",
    "  <td>\n",
    "    <a target=\"_blank\" href=\"https://github.com/tensorflow/privacy/blob/master/tensorflow_privacy/privacy/membership_inference_attack/codelabs/codelab.ipynb\"><img src=\"https://www.tensorflow.org/images/GitHub-Mark-32px.png\" />View source on GitHub</a>\n",
    "  </td>\n",
    "</table>"
   ]
  },
  {
   "cell_type": "markdown",
   "metadata": {
    "colab_type": "text",
    "id": "9rMuytY7Nn8P"
   },
   "source": [
    "##Overview\n",
    "In this codelab we'll train a simple image classification model on the CIFAR10 dataset, and then use the \"membership inference attack\" against this model to assess if the attacker is able to \"guess\" whether a particular sample was present in the training set. We further compute each sample's probability of being in the training set, denoted as the privacy risk score (https://arxiv.org/abs/2003.10595)"
   ]
  },
  {
   "cell_type": "markdown",
   "metadata": {
    "colab_type": "text",
    "id": "FUWqArj_q8vs"
   },
   "source": [
    "## Setup\n",
    "First, set this notebook's runtime to use a GPU, under Runtime > Change runtime type > Hardware accelerator. Then, begin importing the necessary libraries."
   ]
  },
  {
   "cell_type": "code",
   "execution_count": 2,
   "metadata": {
    "cellView": "form",
    "colab": {},
    "colab_type": "code",
    "id": "Lr1pwHcbralz"
   },
   "outputs": [],
   "source": [
    "#@title Import statements.\n",
    "import numpy as np\n",
    "from typing import Tuple, Text\n",
    "from scipy import special\n",
    "\n",
    "import tensorflow as tf\n",
    "import tensorflow_datasets as tfds\n",
    "\n",
    "# Set verbosity.\n",
    "tf.compat.v1.logging.set_verbosity(tf.compat.v1.logging.ERROR)\n",
    "from warnings import simplefilter\n",
    "from sklearn.exceptions import ConvergenceWarning\n",
    "simplefilter(action=\"ignore\", category=ConvergenceWarning)\n",
    "simplefilter(action=\"ignore\", category=FutureWarning)"
   ]
  },
  {
   "cell_type": "markdown",
   "metadata": {
    "colab_type": "text",
    "id": "ucw81ar6ru-6"
   },
   "source": [
    "### Install TensorFlow Privacy."
   ]
  },
  {
   "cell_type": "code",
   "execution_count": 3,
   "metadata": {
    "cellView": "both",
    "colab": {},
    "colab_type": "code",
    "id": "zcqAmiGH90kl"
   },
   "outputs": [],
   "source": [
    "!pip3 install git+https://github.com/tensorflow/privacy\n",
    "\n",
    "from tensorflow_privacy.privacy.membership_inference_attack import membership_inference_attack as mia"
   ]
  },
  {
   "cell_type": "markdown",
   "metadata": {
    "colab_type": "text",
    "id": "pBbcG86th_sW"
   },
   "source": [
    "## Train a model"
   ]
  },
  {
   "cell_type": "code",
   "execution_count": 4,
   "metadata": {
    "cellView": "form",
    "colab": {},
    "colab_type": "code",
    "id": "vCyOWyyhXLib"
   },
   "outputs": [
    {
     "name": "stdout",
     "output_type": "stream",
     "text": [
      "Loading the dataset.\n",
      "learning rate %f 0.02\n",
      "Model: \"sequential\"\n",
      "_________________________________________________________________\n",
      "Layer (type)                 Output Shape              Param #   \n",
      "=================================================================\n",
      "conv2d (Conv2D)              (None, 30, 30, 32)        896       \n",
      "_________________________________________________________________\n",
      "max_pooling2d (MaxPooling2D) (None, 15, 15, 32)        0         \n",
      "_________________________________________________________________\n",
      "conv2d_1 (Conv2D)            (None, 13, 13, 32)        9248      \n",
      "_________________________________________________________________\n",
      "max_pooling2d_1 (MaxPooling2 (None, 6, 6, 32)          0         \n",
      "_________________________________________________________________\n",
      "conv2d_2 (Conv2D)            (None, 4, 4, 32)          9248      \n",
      "_________________________________________________________________\n",
      "max_pooling2d_2 (MaxPooling2 (None, 2, 2, 32)          0         \n",
      "_________________________________________________________________\n",
      "flatten (Flatten)            (None, 128)               0         \n",
      "_________________________________________________________________\n",
      "dense (Dense)                (None, 64)                8256      \n",
      "_________________________________________________________________\n",
      "dense_1 (Dense)              (None, 10)                650       \n",
      "=================================================================\n",
      "Total params: 28,298\n",
      "Trainable params: 28,298\n",
      "Non-trainable params: 0\n",
      "_________________________________________________________________\n",
      "Epoch 1/100\n",
      "200/200 [==============================] - 2s 8ms/step - loss: 2.0358 - accuracy: 0.2449 - val_loss: 1.7640 - val_accuracy: 0.3603\n",
      "Epoch 2/100\n",
      "200/200 [==============================] - 1s 5ms/step - loss: 1.6132 - accuracy: 0.4126 - val_loss: 1.4455 - val_accuracy: 0.4848\n",
      "Epoch 3/100\n",
      "200/200 [==============================] - 1s 5ms/step - loss: 1.4018 - accuracy: 0.4956 - val_loss: 1.3218 - val_accuracy: 0.5261\n",
      "Epoch 4/100\n",
      "200/200 [==============================] - 1s 5ms/step - loss: 1.2939 - accuracy: 0.5394 - val_loss: 1.2748 - val_accuracy: 0.5392\n",
      "Epoch 5/100\n",
      "200/200 [==============================] - 1s 5ms/step - loss: 1.2074 - accuracy: 0.5735 - val_loss: 1.1824 - val_accuracy: 0.5801\n",
      "Epoch 6/100\n",
      "200/200 [==============================] - 1s 5ms/step - loss: 1.1278 - accuracy: 0.6020 - val_loss: 1.1652 - val_accuracy: 0.5881\n",
      "Epoch 7/100\n",
      "200/200 [==============================] - 1s 5ms/step - loss: 1.0936 - accuracy: 0.6150 - val_loss: 1.1092 - val_accuracy: 0.6069\n",
      "Epoch 8/100\n",
      "200/200 [==============================] - 1s 5ms/step - loss: 1.0410 - accuracy: 0.6349 - val_loss: 1.0702 - val_accuracy: 0.6230\n",
      "Epoch 9/100\n",
      "200/200 [==============================] - 1s 6ms/step - loss: 0.9952 - accuracy: 0.6493 - val_loss: 1.0984 - val_accuracy: 0.6175\n",
      "Epoch 10/100\n",
      "200/200 [==============================] - 1s 5ms/step - loss: 0.9682 - accuracy: 0.6600 - val_loss: 1.0346 - val_accuracy: 0.6408\n",
      "Epoch 11/100\n",
      "200/200 [==============================] - 1s 5ms/step - loss: 0.9370 - accuracy: 0.6719 - val_loss: 1.0140 - val_accuracy: 0.6442\n",
      "Epoch 12/100\n",
      "200/200 [==============================] - 1s 5ms/step - loss: 0.9146 - accuracy: 0.6792 - val_loss: 0.9974 - val_accuracy: 0.6564\n",
      "Epoch 13/100\n",
      "200/200 [==============================] - 1s 5ms/step - loss: 0.8839 - accuracy: 0.6880 - val_loss: 1.0525 - val_accuracy: 0.6343\n",
      "Epoch 14/100\n",
      "200/200 [==============================] - 1s 5ms/step - loss: 0.8554 - accuracy: 0.7000 - val_loss: 1.0280 - val_accuracy: 0.6574\n",
      "Epoch 15/100\n",
      "200/200 [==============================] - 1s 5ms/step - loss: 0.8444 - accuracy: 0.7030 - val_loss: 0.9596 - val_accuracy: 0.6697\n",
      "Epoch 16/100\n",
      "200/200 [==============================] - 1s 5ms/step - loss: 0.8255 - accuracy: 0.7095 - val_loss: 0.9406 - val_accuracy: 0.6798\n",
      "Epoch 17/100\n",
      "200/200 [==============================] - 1s 5ms/step - loss: 0.8038 - accuracy: 0.7172 - val_loss: 1.0018 - val_accuracy: 0.6632\n",
      "Epoch 18/100\n",
      "200/200 [==============================] - 1s 5ms/step - loss: 0.8045 - accuracy: 0.7172 - val_loss: 0.9343 - val_accuracy: 0.6810\n",
      "Epoch 19/100\n",
      "200/200 [==============================] - 1s 5ms/step - loss: 0.7672 - accuracy: 0.7308 - val_loss: 0.9666 - val_accuracy: 0.6752\n",
      "Epoch 20/100\n",
      "200/200 [==============================] - 1s 5ms/step - loss: 0.7660 - accuracy: 0.7309 - val_loss: 0.9823 - val_accuracy: 0.6676\n",
      "Epoch 21/100\n",
      "200/200 [==============================] - 1s 5ms/step - loss: 0.7396 - accuracy: 0.7391 - val_loss: 0.9548 - val_accuracy: 0.6777\n",
      "Epoch 22/100\n",
      "200/200 [==============================] - 1s 6ms/step - loss: 0.7285 - accuracy: 0.7415 - val_loss: 0.9568 - val_accuracy: 0.6856\n",
      "Epoch 23/100\n",
      "200/200 [==============================] - 1s 6ms/step - loss: 0.7235 - accuracy: 0.7454 - val_loss: 0.9302 - val_accuracy: 0.6886\n",
      "Epoch 24/100\n",
      "200/200 [==============================] - 1s 5ms/step - loss: 0.7017 - accuracy: 0.7525 - val_loss: 0.9557 - val_accuracy: 0.6867\n",
      "Epoch 25/100\n",
      "200/200 [==============================] - 1s 5ms/step - loss: 0.6921 - accuracy: 0.7562 - val_loss: 0.9379 - val_accuracy: 0.6921\n",
      "Epoch 26/100\n",
      "200/200 [==============================] - 1s 5ms/step - loss: 0.6752 - accuracy: 0.7606 - val_loss: 0.9930 - val_accuracy: 0.6720\n",
      "Epoch 27/100\n",
      "200/200 [==============================] - 1s 5ms/step - loss: 0.6769 - accuracy: 0.7590 - val_loss: 0.9484 - val_accuracy: 0.6923\n",
      "Epoch 28/100\n",
      "200/200 [==============================] - 1s 5ms/step - loss: 0.6629 - accuracy: 0.7656 - val_loss: 0.9388 - val_accuracy: 0.6917\n",
      "Epoch 29/100\n",
      "200/200 [==============================] - 1s 5ms/step - loss: 0.6571 - accuracy: 0.7672 - val_loss: 0.9473 - val_accuracy: 0.6898\n",
      "Epoch 30/100\n",
      "200/200 [==============================] - 1s 6ms/step - loss: 0.6494 - accuracy: 0.7690 - val_loss: 0.9819 - val_accuracy: 0.6849\n",
      "Epoch 31/100\n",
      "200/200 [==============================] - 1s 5ms/step - loss: 0.6554 - accuracy: 0.7663 - val_loss: 0.9548 - val_accuracy: 0.6901\n",
      "Epoch 32/100\n",
      "200/200 [==============================] - 1s 5ms/step - loss: 0.6218 - accuracy: 0.7806 - val_loss: 0.9712 - val_accuracy: 0.6741\n",
      "Epoch 33/100\n",
      "200/200 [==============================] - 1s 5ms/step - loss: 0.6199 - accuracy: 0.7808 - val_loss: 0.9795 - val_accuracy: 0.6824\n",
      "Epoch 34/100\n",
      "200/200 [==============================] - 1s 5ms/step - loss: 0.6096 - accuracy: 0.7825 - val_loss: 0.9969 - val_accuracy: 0.6802\n",
      "Epoch 35/100\n",
      "200/200 [==============================] - 1s 5ms/step - loss: 0.6156 - accuracy: 0.7806 - val_loss: 0.9656 - val_accuracy: 0.6839\n",
      "Epoch 36/100\n",
      "200/200 [==============================] - 1s 5ms/step - loss: 0.5957 - accuracy: 0.7885 - val_loss: 0.9679 - val_accuracy: 0.6905\n",
      "Epoch 37/100\n",
      "200/200 [==============================] - 1s 5ms/step - loss: 0.5996 - accuracy: 0.7862 - val_loss: 1.0140 - val_accuracy: 0.6847\n",
      "Epoch 38/100\n",
      "200/200 [==============================] - 1s 5ms/step - loss: 0.5943 - accuracy: 0.7890 - val_loss: 0.9588 - val_accuracy: 0.6992\n",
      "Epoch 39/100\n",
      "200/200 [==============================] - 1s 5ms/step - loss: 0.5895 - accuracy: 0.7924 - val_loss: 1.0227 - val_accuracy: 0.6876\n",
      "Epoch 40/100\n",
      "200/200 [==============================] - 1s 5ms/step - loss: 0.5755 - accuracy: 0.7959 - val_loss: 0.9813 - val_accuracy: 0.6912\n",
      "Epoch 41/100\n",
      "200/200 [==============================] - 1s 5ms/step - loss: 0.5767 - accuracy: 0.7946 - val_loss: 1.0326 - val_accuracy: 0.6819\n",
      "Epoch 42/100\n",
      "200/200 [==============================] - 1s 5ms/step - loss: 0.5606 - accuracy: 0.7993 - val_loss: 1.1191 - val_accuracy: 0.6622\n",
      "Epoch 43/100\n",
      "200/200 [==============================] - 1s 5ms/step - loss: 0.5489 - accuracy: 0.8054 - val_loss: 1.0608 - val_accuracy: 0.6795\n",
      "Epoch 44/100\n",
      "200/200 [==============================] - 1s 5ms/step - loss: 0.5465 - accuracy: 0.8066 - val_loss: 1.0195 - val_accuracy: 0.6887\n",
      "Epoch 45/100\n",
      "200/200 [==============================] - 1s 5ms/step - loss: 0.5403 - accuracy: 0.8073 - val_loss: 1.0288 - val_accuracy: 0.6901\n",
      "Epoch 46/100\n",
      "200/200 [==============================] - 1s 5ms/step - loss: 0.5375 - accuracy: 0.8092 - val_loss: 1.0732 - val_accuracy: 0.6793\n"
     ]
    },
    {
     "name": "stdout",
     "output_type": "stream",
     "text": [
      "Epoch 47/100\n",
      "200/200 [==============================] - 1s 5ms/step - loss: 0.5312 - accuracy: 0.8089 - val_loss: 1.0477 - val_accuracy: 0.6851\n",
      "Epoch 48/100\n",
      "200/200 [==============================] - 1s 5ms/step - loss: 0.5348 - accuracy: 0.8073 - val_loss: 1.0623 - val_accuracy: 0.6823\n",
      "Epoch 49/100\n",
      "200/200 [==============================] - 1s 6ms/step - loss: 0.5392 - accuracy: 0.8071 - val_loss: 1.0662 - val_accuracy: 0.6852\n",
      "Epoch 50/100\n",
      "200/200 [==============================] - 1s 5ms/step - loss: 0.5270 - accuracy: 0.8115 - val_loss: 1.0746 - val_accuracy: 0.6802\n",
      "Epoch 51/100\n",
      "200/200 [==============================] - 1s 5ms/step - loss: 0.5112 - accuracy: 0.8167 - val_loss: 1.0665 - val_accuracy: 0.6789\n",
      "Epoch 52/100\n",
      "200/200 [==============================] - 1s 5ms/step - loss: 0.5082 - accuracy: 0.8185 - val_loss: 1.0820 - val_accuracy: 0.6839\n",
      "Epoch 53/100\n",
      "200/200 [==============================] - 1s 5ms/step - loss: 0.5062 - accuracy: 0.8195 - val_loss: 1.1127 - val_accuracy: 0.6836\n",
      "Epoch 54/100\n",
      "200/200 [==============================] - 1s 5ms/step - loss: 0.5046 - accuracy: 0.8194 - val_loss: 1.1327 - val_accuracy: 0.6810\n",
      "Epoch 55/100\n",
      "200/200 [==============================] - 1s 5ms/step - loss: 0.4952 - accuracy: 0.8237 - val_loss: 1.0908 - val_accuracy: 0.6868\n",
      "Epoch 56/100\n",
      "200/200 [==============================] - 1s 5ms/step - loss: 0.5086 - accuracy: 0.8181 - val_loss: 1.0766 - val_accuracy: 0.6876\n",
      "Epoch 57/100\n",
      "200/200 [==============================] - 1s 5ms/step - loss: 0.4831 - accuracy: 0.8266 - val_loss: 1.1173 - val_accuracy: 0.6884\n",
      "Epoch 58/100\n",
      "200/200 [==============================] - 1s 5ms/step - loss: 0.4883 - accuracy: 0.8230 - val_loss: 1.1164 - val_accuracy: 0.6855\n",
      "Epoch 59/100\n",
      "200/200 [==============================] - 1s 5ms/step - loss: 0.4881 - accuracy: 0.8249 - val_loss: 1.1151 - val_accuracy: 0.6828\n",
      "Epoch 60/100\n",
      "200/200 [==============================] - 1s 5ms/step - loss: 0.4891 - accuracy: 0.8250 - val_loss: 1.1092 - val_accuracy: 0.6842\n",
      "Epoch 61/100\n",
      "200/200 [==============================] - 1s 5ms/step - loss: 0.4806 - accuracy: 0.8279 - val_loss: 1.1259 - val_accuracy: 0.6821\n",
      "Epoch 62/100\n",
      "200/200 [==============================] - 1s 5ms/step - loss: 0.4816 - accuracy: 0.8267 - val_loss: 1.1461 - val_accuracy: 0.6736\n",
      "Epoch 63/100\n",
      "200/200 [==============================] - 1s 5ms/step - loss: 0.4599 - accuracy: 0.8349 - val_loss: 1.1267 - val_accuracy: 0.6877\n",
      "Epoch 64/100\n",
      "200/200 [==============================] - 1s 5ms/step - loss: 0.4650 - accuracy: 0.8325 - val_loss: 1.1498 - val_accuracy: 0.6827\n",
      "Epoch 65/100\n",
      "200/200 [==============================] - 1s 5ms/step - loss: 0.4720 - accuracy: 0.8303 - val_loss: 1.1468 - val_accuracy: 0.6819\n",
      "Epoch 66/100\n",
      "200/200 [==============================] - 1s 5ms/step - loss: 0.4769 - accuracy: 0.8293 - val_loss: 1.1620 - val_accuracy: 0.6857\n",
      "Epoch 67/100\n",
      "200/200 [==============================] - 1s 5ms/step - loss: 0.4621 - accuracy: 0.8326 - val_loss: 1.1993 - val_accuracy: 0.6746\n",
      "Epoch 68/100\n",
      "200/200 [==============================] - 1s 5ms/step - loss: 0.4496 - accuracy: 0.8381 - val_loss: 1.1665 - val_accuracy: 0.6803\n",
      "Epoch 69/100\n",
      "200/200 [==============================] - 1s 5ms/step - loss: 0.4463 - accuracy: 0.8378 - val_loss: 1.2094 - val_accuracy: 0.6858\n",
      "Epoch 70/100\n",
      "200/200 [==============================] - 1s 5ms/step - loss: 0.4453 - accuracy: 0.8399 - val_loss: 1.2300 - val_accuracy: 0.6736\n",
      "Epoch 71/100\n",
      "200/200 [==============================] - 1s 5ms/step - loss: 0.4554 - accuracy: 0.8365 - val_loss: 1.1662 - val_accuracy: 0.6776\n",
      "Epoch 72/100\n",
      "200/200 [==============================] - 1s 5ms/step - loss: 0.4416 - accuracy: 0.8411 - val_loss: 1.2145 - val_accuracy: 0.6784\n",
      "Epoch 73/100\n",
      "200/200 [==============================] - 1s 5ms/step - loss: 0.4474 - accuracy: 0.8381 - val_loss: 1.2112 - val_accuracy: 0.6781\n",
      "Epoch 74/100\n",
      "200/200 [==============================] - 1s 5ms/step - loss: 0.4365 - accuracy: 0.8422 - val_loss: 1.2111 - val_accuracy: 0.6738\n",
      "Epoch 75/100\n",
      "200/200 [==============================] - 1s 5ms/step - loss: 0.4354 - accuracy: 0.8431 - val_loss: 1.2956 - val_accuracy: 0.6663\n",
      "Epoch 76/100\n",
      "200/200 [==============================] - 1s 5ms/step - loss: 0.4268 - accuracy: 0.8457 - val_loss: 1.2118 - val_accuracy: 0.6826\n",
      "Epoch 77/100\n",
      "200/200 [==============================] - 1s 5ms/step - loss: 0.4190 - accuracy: 0.8479 - val_loss: 1.2825 - val_accuracy: 0.6732\n",
      "Epoch 78/100\n",
      "200/200 [==============================] - 1s 5ms/step - loss: 0.4423 - accuracy: 0.8407 - val_loss: 1.2410 - val_accuracy: 0.6757\n",
      "Epoch 79/100\n",
      "200/200 [==============================] - 1s 5ms/step - loss: 0.4301 - accuracy: 0.8438 - val_loss: 1.2291 - val_accuracy: 0.6786\n",
      "Epoch 80/100\n",
      "200/200 [==============================] - 1s 5ms/step - loss: 0.4337 - accuracy: 0.8418 - val_loss: 1.2695 - val_accuracy: 0.6854\n",
      "Epoch 81/100\n",
      "200/200 [==============================] - 1s 5ms/step - loss: 0.4209 - accuracy: 0.8480 - val_loss: 1.2480 - val_accuracy: 0.6764\n",
      "Epoch 82/100\n",
      "200/200 [==============================] - 1s 5ms/step - loss: 0.4267 - accuracy: 0.8456 - val_loss: 1.2956 - val_accuracy: 0.6762\n",
      "Epoch 83/100\n",
      "200/200 [==============================] - 1s 5ms/step - loss: 0.4112 - accuracy: 0.8517 - val_loss: 1.2998 - val_accuracy: 0.6745\n",
      "Epoch 84/100\n",
      "200/200 [==============================] - 1s 5ms/step - loss: 0.4202 - accuracy: 0.8487 - val_loss: 1.2688 - val_accuracy: 0.6775\n",
      "Epoch 85/100\n",
      "200/200 [==============================] - 1s 5ms/step - loss: 0.4338 - accuracy: 0.8434 - val_loss: 1.3085 - val_accuracy: 0.6786\n",
      "Epoch 86/100\n",
      "200/200 [==============================] - 1s 5ms/step - loss: 0.4105 - accuracy: 0.8525 - val_loss: 1.3298 - val_accuracy: 0.6762\n",
      "Epoch 87/100\n",
      "200/200 [==============================] - 1s 5ms/step - loss: 0.4154 - accuracy: 0.8493 - val_loss: 1.2965 - val_accuracy: 0.6755\n",
      "Epoch 88/100\n",
      "200/200 [==============================] - 1s 5ms/step - loss: 0.4042 - accuracy: 0.8543 - val_loss: 1.3223 - val_accuracy: 0.6790\n",
      "Epoch 89/100\n",
      "200/200 [==============================] - 1s 5ms/step - loss: 0.4088 - accuracy: 0.8523 - val_loss: 1.3251 - val_accuracy: 0.6754\n",
      "Epoch 90/100\n",
      "200/200 [==============================] - 1s 5ms/step - loss: 0.4008 - accuracy: 0.8557 - val_loss: 1.2946 - val_accuracy: 0.6830\n",
      "Epoch 91/100\n",
      "200/200 [==============================] - 1s 5ms/step - loss: 0.4057 - accuracy: 0.8530 - val_loss: 1.3121 - val_accuracy: 0.6815\n",
      "Epoch 92/100\n",
      "200/200 [==============================] - 1s 5ms/step - loss: 0.4049 - accuracy: 0.8543 - val_loss: 1.3541 - val_accuracy: 0.6765\n",
      "Epoch 93/100\n",
      "200/200 [==============================] - 1s 5ms/step - loss: 0.4090 - accuracy: 0.8529 - val_loss: 1.2951 - val_accuracy: 0.6746\n",
      "Epoch 94/100\n",
      "200/200 [==============================] - 1s 5ms/step - loss: 0.4057 - accuracy: 0.8545 - val_loss: 1.3573 - val_accuracy: 0.6743\n",
      "Epoch 95/100\n",
      "200/200 [==============================] - 1s 5ms/step - loss: 0.4067 - accuracy: 0.8524 - val_loss: 1.3811 - val_accuracy: 0.6710\n",
      "Epoch 96/100\n",
      "200/200 [==============================] - 1s 5ms/step - loss: 0.3892 - accuracy: 0.8591 - val_loss: 1.3791 - val_accuracy: 0.6712\n",
      "Epoch 97/100\n",
      "200/200 [==============================] - 1s 5ms/step - loss: 0.3978 - accuracy: 0.8550 - val_loss: 1.3702 - val_accuracy: 0.6680\n",
      "Epoch 98/100\n",
      "200/200 [==============================] - 1s 5ms/step - loss: 0.4045 - accuracy: 0.8554 - val_loss: 1.4202 - val_accuracy: 0.6670\n",
      "Epoch 99/100\n",
      "200/200 [==============================] - 1s 5ms/step - loss: 0.3891 - accuracy: 0.8602 - val_loss: 1.3683 - val_accuracy: 0.6712\n",
      "Epoch 100/100\n",
      "200/200 [==============================] - 1s 5ms/step - loss: 0.4081 - accuracy: 0.8506 - val_loss: 1.3715 - val_accuracy: 0.6707\n",
      "Finished training.\n"
     ]
    }
   ],
   "source": [
    "#@markdown Train a simple model on CIFAR10 with Keras.\n",
    "\n",
    "dataset = 'cifar10'\n",
    "num_classes = 10\n",
    "num_conv = 3\n",
    "activation = 'relu'\n",
    "lr = 0.02\n",
    "momentum = 0.9\n",
    "batch_size = 250\n",
    "epochs = 100  # Privacy risks are especially visible with lots of epochs.\n",
    "\n",
    "\n",
    "def small_cnn(input_shape: Tuple[int],\n",
    "              num_classes: int,\n",
    "              num_conv: int,\n",
    "              activation: Text = 'relu') -> tf.keras.models.Sequential:\n",
    "  \"\"\"Setup a small CNN for image classification.\n",
    "\n",
    "  Args:\n",
    "    input_shape: Integer tuple for the shape of the images.\n",
    "    num_classes: Number of prediction classes.\n",
    "    num_conv: Number of convolutional layers.\n",
    "    activation: The activation function to use for conv and dense layers.\n",
    "\n",
    "  Returns:\n",
    "    The Keras model.\n",
    "  \"\"\"\n",
    "  model = tf.keras.models.Sequential()\n",
    "  model.add(tf.keras.layers.Input(shape=input_shape))\n",
    "\n",
    "  # Conv layers\n",
    "  for _ in range(num_conv):\n",
    "    model.add(tf.keras.layers.Conv2D(32, (3, 3), activation=activation))\n",
    "    model.add(tf.keras.layers.MaxPooling2D())\n",
    "\n",
    "  model.add(tf.keras.layers.Flatten())\n",
    "  model.add(tf.keras.layers.Dense(64, activation=activation))\n",
    "  model.add(tf.keras.layers.Dense(num_classes))\n",
    "  return model\n",
    "\n",
    "\n",
    "print('Loading the dataset.')\n",
    "train_ds = tfds.as_numpy(\n",
    "    tfds.load(dataset, split=tfds.Split.TRAIN, batch_size=-1))\n",
    "test_ds = tfds.as_numpy(\n",
    "    tfds.load(dataset, split=tfds.Split.TEST, batch_size=-1))\n",
    "x_train = train_ds['image'].astype('float32') / 255.\n",
    "y_train_indices = train_ds['label'][:, np.newaxis]\n",
    "x_test = test_ds['image'].astype('float32') / 255.\n",
    "y_test_indices = test_ds['label'][:, np.newaxis]\n",
    "\n",
    "# Convert class vectors to binary class matrices.\n",
    "y_train = tf.keras.utils.to_categorical(y_train_indices, num_classes)\n",
    "y_test = tf.keras.utils.to_categorical(y_test_indices, num_classes)\n",
    "\n",
    "input_shape = x_train.shape[1:]\n",
    "\n",
    "model = small_cnn(\n",
    "    input_shape, num_classes, num_conv=num_conv, activation=activation)\n",
    "\n",
    "print('learning rate %f', lr)\n",
    "\n",
    "optimizer = tf.keras.optimizers.SGD(lr=lr, momentum=momentum)\n",
    "\n",
    "loss = tf.keras.losses.CategoricalCrossentropy(from_logits=True)\n",
    "model.compile(loss=loss, optimizer=optimizer, metrics=['accuracy'])\n",
    "model.summary()\n",
    "model.fit(\n",
    "    x_train,\n",
    "    y_train,\n",
    "    batch_size=batch_size,\n",
    "    epochs=epochs,\n",
    "    validation_data=(x_test, y_test),\n",
    "    shuffle=True)\n",
    "print('Finished training.')"
   ]
  },
  {
   "cell_type": "markdown",
   "metadata": {
    "colab_type": "text",
    "id": "ee-zjGGGV1DC"
   },
   "source": [
    "## Calculate logits, probabilities and loss values for training and test sets.\n",
    "\n",
    "We will use these values later in the membership inference attack and privacy risk score analysis to separate training and test samples."
   ]
  },
  {
   "cell_type": "code",
   "execution_count": 5,
   "metadata": {
    "cellView": "both",
    "colab": {},
    "colab_type": "code",
    "id": "um9r0tSiPx4u"
   },
   "outputs": [
    {
     "name": "stdout",
     "output_type": "stream",
     "text": [
      "Predict on train...\n",
      "Predict on test...\n",
      "Apply softmax to get probabilities from logits...\n",
      "Compute losses...\n"
     ]
    }
   ],
   "source": [
    "print('Predict on train...')\n",
    "logits_train = model.predict(x_train, batch_size=batch_size)\n",
    "print('Predict on test...')\n",
    "logits_test = model.predict(x_test, batch_size=batch_size)\n",
    "\n",
    "print('Apply softmax to get probabilities from logits...')\n",
    "prob_train = special.softmax(logits_train, axis=1)\n",
    "prob_test = special.softmax(logits_test, axis=1)\n",
    "\n",
    "print('Compute losses...')\n",
    "cce = tf.keras.backend.categorical_crossentropy\n",
    "constant = tf.keras.backend.constant\n",
    "\n",
    "loss_train = cce(constant(y_train), constant(prob_train), from_logits=False).numpy()\n",
    "loss_test = cce(constant(y_test), constant(prob_test), from_logits=False).numpy()"
   ]
  },
  {
   "cell_type": "markdown",
   "metadata": {
    "colab_type": "text",
    "id": "QETxVOHLiHP4"
   },
   "source": [
    "## Run membership inference attacks.\n",
    "\n",
    "We will now execute a membership inference attack against the previously trained CIFAR10 model. This will generate a number of scores, most notably, attacker advantage and AUC for the membership inference classifier.\n",
    "\n",
    "An AUC of close to 0.5 means that the attack wasn't able to identify training samples, which means that the model doesn't have privacy issues according to this test. Higher values, on the contrary, indicate potential privacy issues."
   ]
  },
  {
   "cell_type": "code",
   "execution_count": 6,
   "metadata": {
    "colab": {},
    "colab_type": "code",
    "id": "B8NIwhVwQT7I"
   },
   "outputs": [
    {
     "name": "stdout",
     "output_type": "stream",
     "text": [
      "Best-performing attacks over all slices\n",
      "  LOGISTIC_REGRESSION achieved an AUC of 0.74 on slice CORRECTLY_CLASSIFIED=False\n",
      "  LOGISTIC_REGRESSION achieved an advantage of 0.40 on slice CORRECTLY_CLASSIFIED=False\n",
      "\n",
      "Best-performing attacks over slice: \"Entire dataset\"\n",
      "  LOGISTIC_REGRESSION achieved an AUC of 0.61\n",
      "  THRESHOLD_ENTROPY_ATTACK achieved an advantage of 0.21\n",
      "\n",
      "Best-performing attacks over slice: \"CLASS=0\"\n",
      "  LOGISTIC_REGRESSION achieved an AUC of 0.66\n",
      "  LOGISTIC_REGRESSION achieved an advantage of 0.25\n",
      "\n",
      "Best-performing attacks over slice: \"CLASS=1\"\n",
      "  LOGISTIC_REGRESSION achieved an AUC of 0.58\n",
      "  THRESHOLD_ATTACK achieved an advantage of 0.17\n",
      "\n",
      "Best-performing attacks over slice: \"CLASS=2\"\n",
      "  LOGISTIC_REGRESSION achieved an AUC of 0.66\n",
      "  THRESHOLD_ENTROPY_ATTACK achieved an advantage of 0.31\n",
      "\n",
      "Best-performing attacks over slice: \"CLASS=3\"\n",
      "  LOGISTIC_REGRESSION achieved an AUC of 0.71\n",
      "  LOGISTIC_REGRESSION achieved an advantage of 0.35\n",
      "\n",
      "Best-performing attacks over slice: \"CLASS=4\"\n",
      "  THRESHOLD_ATTACK achieved an AUC of 0.64\n",
      "  THRESHOLD_ENTROPY_ATTACK achieved an advantage of 0.25\n",
      "\n",
      "Best-performing attacks over slice: \"CLASS=5\"\n",
      "  LOGISTIC_REGRESSION achieved an AUC of 0.65\n",
      "  THRESHOLD_ENTROPY_ATTACK achieved an advantage of 0.26\n",
      "\n",
      "Best-performing attacks over slice: \"CLASS=6\"\n",
      "  LOGISTIC_REGRESSION achieved an AUC of 0.60\n",
      "  THRESHOLD_ATTACK achieved an advantage of 0.16\n",
      "\n",
      "Best-performing attacks over slice: \"CLASS=7\"\n",
      "  LOGISTIC_REGRESSION achieved an AUC of 0.61\n",
      "  LOGISTIC_REGRESSION achieved an advantage of 0.25\n",
      "\n",
      "Best-performing attacks over slice: \"CLASS=8\"\n",
      "  LOGISTIC_REGRESSION achieved an AUC of 0.58\n",
      "  THRESHOLD_ATTACK achieved an advantage of 0.16\n",
      "\n",
      "Best-performing attacks over slice: \"CLASS=9\"\n",
      "  LOGISTIC_REGRESSION achieved an AUC of 0.59\n",
      "  LOGISTIC_REGRESSION achieved an advantage of 0.19\n",
      "\n",
      "Best-performing attacks over slice: \"CORRECTLY_CLASSIFIED=True\"\n",
      "  LOGISTIC_REGRESSION achieved an AUC of 0.51\n",
      "  THRESHOLD_ATTACK achieved an advantage of 0.05\n",
      "\n",
      "Best-performing attacks over slice: \"CORRECTLY_CLASSIFIED=False\"\n",
      "  THRESHOLD_ENTROPY_ATTACK achieved an AUC of 0.75\n",
      "  LOGISTIC_REGRESSION achieved an advantage of 0.40\n"
     ]
    },
    {
     "data": {
      "image/png": "[encoded data removed]",
      "text/plain": [
       "<Figure size 432x288 with 1 Axes>"
      ]
     },
     "metadata": {
      "needs_background": "light"
     },
     "output_type": "display_data"
    }
   ],
   "source": [
    "from tensorflow_privacy.privacy.membership_inference_attack.data_structures import AttackInputData\n",
    "from tensorflow_privacy.privacy.membership_inference_attack.data_structures import SlicingSpec\n",
    "from tensorflow_privacy.privacy.membership_inference_attack.data_structures import AttackType\n",
    "\n",
    "import tensorflow_privacy.privacy.membership_inference_attack.plotting as plotting\n",
    "\n",
    "labels_train = np.argmax(y_train, axis=1)\n",
    "labels_test = np.argmax(y_test, axis=1)\n",
    "\n",
    "input = AttackInputData(\n",
    "  logits_train = logits_train,\n",
    "  logits_test = logits_test,\n",
    "  loss_train = loss_train,\n",
    "  loss_test = loss_test,\n",
    "  labels_train = labels_train,\n",
    "  labels_test = labels_test\n",
    ")\n",
    "\n",
    "# Run several attacks for different data slices\n",
    "attacks_result = mia.run_attacks(input,\n",
    "                                 SlicingSpec(\n",
    "                                     entire_dataset = True,\n",
    "                                     by_class = True,\n",
    "                                     by_classification_correctness = True\n",
    "                                 ),\n",
    "                                 attack_types = [\n",
    "                                     AttackType.THRESHOLD_ATTACK,\n",
    "                                     AttackType.THRESHOLD_ENTROPY_ATTACK,\n",
    "                                     AttackType.LOGISTIC_REGRESSION])\n",
    "\n",
    "# Plot the ROC curve of the best classifier\n",
    "fig = plotting.plot_roc_curve(\n",
    "    attacks_result.get_result_with_max_auc().roc_curve)\n",
    "\n",
    "# Print a user-friendly summary of the attacks\n",
    "print(attacks_result.summary(by_slices = True))"
   ]
  },
  {
   "cell_type": "markdown",
   "metadata": {
    "colab_type": "text",
    "id": "E9zwsPGFujVq"
   },
   "source": [
    "## Compute privacy risk score\n",
    "\n",
    "This part shows how to use the privacy risk score.\n",
    "\n",
    "For each data slice, we compute privacy risk scores for both training and test data. We then set a threshold on risk scores (an input is inferred as a member if and only if its risk score is higher than the threshold) and compute the attack precision and recall values"
   ]
  },
  {
   "cell_type": "code",
   "execution_count": 7,
   "metadata": {},
   "outputs": [
    {
     "name": "stdout",
     "output_type": "stream",
     "text": [
      "\n",
      "Privacy risk score analysis over slice: \"Entire dataset\"\n",
      "  with 0.50000 as the threshold on privacy risk score, the precision-recall pair is (0.56143, 0.92450)\n",
      "\n",
      "Privacy risk score analysis over slice: \"CLASS=0\"\n",
      "  with 0.60000 as the threshold on privacy risk score, the precision-recall pair is (0.62567, 0.16380)\n",
      "  with 0.50000 as the threshold on privacy risk score, the precision-recall pair is (0.56207, 0.89200)\n",
      "\n",
      "Privacy risk score analysis over slice: \"CLASS=1\"\n",
      "  with 0.60000 as the threshold on privacy risk score, the precision-recall pair is (0.61458, 0.29340)\n",
      "  with 0.50000 as the threshold on privacy risk score, the precision-recall pair is (0.56183, 0.79240)\n",
      "\n",
      "Privacy risk score analysis over slice: \"CLASS=2\"\n",
      "  with 0.60000 as the threshold on privacy risk score, the precision-recall pair is (0.63724, 0.56740)\n",
      "  with 0.50000 as the threshold on privacy risk score, the precision-recall pair is (0.61159, 0.84400)\n",
      "\n",
      "Privacy risk score analysis over slice: \"CLASS=3\"\n",
      "  with 1.00000 as the threshold on privacy risk score, the precision-recall pair is (1.00000, 0.00100)\n",
      "  with 0.90000 as the threshold on privacy risk score, the precision-recall pair is (1.00000, 0.00100)\n",
      "  with 0.80000 as the threshold on privacy risk score, the precision-recall pair is (1.00000, 0.00100)\n",
      "  with 0.70000 as the threshold on privacy risk score, the precision-recall pair is (0.77273, 0.00340)\n",
      "  with 0.60000 as the threshold on privacy risk score, the precision-recall pair is (0.65255, 0.35120)\n",
      "  with 0.50000 as the threshold on privacy risk score, the precision-recall pair is (0.60833, 0.77660)\n",
      "\n",
      "Privacy risk score analysis over slice: \"CLASS=4\"\n",
      "  with 0.60000 as the threshold on privacy risk score, the precision-recall pair is (0.61174, 0.41280)\n",
      "  with 0.50000 as the threshold on privacy risk score, the precision-recall pair is (0.59076, 0.74920)\n",
      "\n",
      "Privacy risk score analysis over slice: \"CLASS=5\"\n",
      "  with 0.60000 as the threshold on privacy risk score, the precision-recall pair is (0.60540, 0.34520)\n",
      "  with 0.50000 as the threshold on privacy risk score, the precision-recall pair is (0.58148, 0.89060)\n",
      "\n",
      "Privacy risk score analysis over slice: \"CLASS=6\"\n",
      "  with 0.60000 as the threshold on privacy risk score, the precision-recall pair is (0.60929, 0.10760)\n",
      "  with 0.50000 as the threshold on privacy risk score, the precision-recall pair is (0.57011, 0.69360)\n",
      "\n",
      "Privacy risk score analysis over slice: \"CLASS=7\"\n",
      "  with 0.60000 as the threshold on privacy risk score, the precision-recall pair is (0.61250, 0.29400)\n",
      "  with 0.50000 as the threshold on privacy risk score, the precision-recall pair is (0.56678, 0.85040)\n",
      "\n",
      "Privacy risk score analysis over slice: \"CLASS=8\"\n",
      "  with 0.50000 as the threshold on privacy risk score, the precision-recall pair is (0.54417, 0.92520)\n",
      "\n",
      "Privacy risk score analysis over slice: \"CLASS=9\"\n",
      "  with 0.60000 as the threshold on privacy risk score, the precision-recall pair is (0.61538, 0.08640)\n",
      "  with 0.50000 as the threshold on privacy risk score, the precision-recall pair is (0.56456, 0.78440)\n",
      "\n",
      "Privacy risk score analysis over slice: \"CORRECTLY_CLASSIFIED=True\"\n",
      "  with 0.50000 as the threshold on privacy risk score, the precision-recall pair is (0.52433, 0.59775)\n",
      "\n",
      "Privacy risk score analysis over slice: \"CORRECTLY_CLASSIFIED=False\"\n",
      "  with 0.70000 as the threshold on privacy risk score, the precision-recall pair is (0.70957, 0.36504)\n",
      "  with 0.60000 as the threshold on privacy risk score, the precision-recall pair is (0.68111, 0.67130)\n",
      "  with 0.50000 as the threshold on privacy risk score, the precision-recall pair is (0.63809, 0.87166)\n"
     ]
    }
   ],
   "source": [
    "# compute privacy risk scores on all given data slices\n",
    "risk_score_results = mia.privacy_risk_score_analysis(input,\n",
    "                                                     SlicingSpec(\n",
    "                                                         entire_dataset = True,\n",
    "                                                         by_class = True,\n",
    "                                                         by_classification_correctness = True))\n",
    "# print the summary of privacy risk score analysis\n",
    "print(risk_score_results.summary())"
   ]
  },
  {
   "cell_type": "code",
   "execution_count": null,
   "metadata": {},
   "outputs": [],
   "source": []
  }
 ],
 "metadata": {
  "colab": {
   "collapsed_sections": [],
   "last_runtime": {
    "build_target": "//learning/deepmind/public/tools/ml_python:ml_notebook",
    "kind": "private"
   },
   "name": "Membership inference codelab",
   "provenance": []
  },
  "kernelspec": {
   "display_name": "Python 3",
   "language": "python",
   "name": "python3"
  },
  "language_info": {
   "codemirror_mode": {
    "name": "ipython",
    "version": 3
   },
   "file_extension": ".py",
   "mimetype": "text/x-python",
   "name": "python",
   "nbconvert_exporter": "python",
   "pygments_lexer": "ipython3",
   "version": "3.6.10"
  },
  "pycharm": {
   "stem_cell": {
    "cell_type": "raw",
    "metadata": {
     "collapsed": false
    },
    "source": []
   }
  }
 },
 "nbformat": 4,
 "nbformat_minor": 1
}
